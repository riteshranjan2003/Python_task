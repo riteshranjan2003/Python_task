{
  "cells": [
    {
      "cell_type": "code",
      "execution_count": 2,
      "metadata": {
        "colab": {
          "base_uri": "https://localhost:8080/"
        },
        "id": "KWCBcCTVPysf",
        "outputId": "91c90b66-e42d-40fb-bbff-914422d64280"
      },
      "outputs": [
        {
          "name": "stdout",
          "output_type": "stream",
          "text": [
            "Hello world\n",
            "sum is:  50\n"
          ]
        }
      ],
      "source": [
        "print(\"Hello world\") \n",
        "\n",
        "a = 45 \n",
        "\n",
        "b = 5 \n",
        "\n",
        "c = a+b \n",
        "\n",
        "print(\"sum is: \", c)"
      ]
    }
  ],
  "metadata": {
    "colab": {
      "provenance": []
    },
    "kernelspec": {
      "display_name": "Python 3",
      "name": "python3"
    },
    "language_info": {
      "codemirror_mode": {
        "name": "ipython",
        "version": 3
      },
      "file_extension": ".py",
      "mimetype": "text/x-python",
      "name": "python",
      "nbconvert_exporter": "python",
      "pygments_lexer": "ipython3",
      "version": "3.11.2"
    }
  },
  "nbformat": 4,
  "nbformat_minor": 0
}
