{
  "nbformat": 4,
  "nbformat_minor": 0,
  "metadata": {
    "colab": {
      "provenance": []
    },
    "kernelspec": {
      "name": "python3",
      "display_name": "Python 3"
    },
    "language_info": {
      "name": "python"
    }
  },
  "cells": [
    {
      "cell_type": "markdown",
      "source": [
        "Q1) What is difference between shallow copy and deep copy? \n",
        "\n",
        "**Shallow Copy**\n",
        "\n",
        "*    A shallow copy creates a new object, but it references the original nested objects.\n",
        "\n",
        "*    Modifying a nested object in the original or the shallow copy will affect both objects.\n",
        "*    Shallow copy is performed using the copy() method or the slicing syntax [:].\n",
        "*    It is a more efficient way of copying when the objects involved are immutable or when you don't want to create copies of nested mutable objects.\n",
        "\n",
        "**Deep Copy**\n",
        "\n",
        "*    A deep copy creates a new object and also creates new copies of all nested objects.\n",
        "\n",
        "*    Modifying a nested object in the original or the deep copy will not affect each other.\n",
        "*    Deep copy is performed using the deepcopy() function from the copy module.\n",
        "*    It is typically used when you want to create an independent copy of an object, including all nested mutable objects.\n",
        "\n",
        "**Example**"
      ],
      "metadata": {
        "id": "t0ietyo2TBia"
      }
    },
    {
      "cell_type": "code",
      "source": [
        "import copy\n",
        "list = [['J','I','T'],['E','S','H']]\n",
        "shallow_copy = copy.copy(list)\n",
        "deep_copy = copy.deepcopy(list)\n",
        "list[0][0] = 'R'\n",
        "print(list)\n",
        "print(shallow_copy)\n",
        "print(deep_copy)"
      ],
      "metadata": {
        "colab": {
          "base_uri": "https://localhost:8080/"
        },
        "id": "ALOSx86vUn9V",
        "outputId": "882bd502-b061-4153-cea1-a60aa6e3fc8b"
      },
      "execution_count": null,
      "outputs": [
        {
          "output_type": "stream",
          "name": "stdout",
          "text": [
            "[['R', 'I', 'T'], ['E', 'S', 'H']]\n",
            "[['R', 'I', 'T'], ['E', 'S', 'H']]\n",
            "[['J', 'I', 'T'], ['E', 'S', 'H']]\n"
          ]
        }
      ]
    },
    {
      "cell_type": "markdown",
      "source": [
        "Q2) You want to create a library management application, you need to store data about books, students in your program, how will you store data inside python using list? Create some lists with fake data to store information about library management. "
      ],
      "metadata": {
        "id": "89nmvt0xW5hY"
      }
    },
    {
      "cell_type": "code",
      "source": [
        "books = [\n",
        "    {\n",
        "        'title': 'The Great Gatsby',\n",
        "        'author': 'F. Scott Fitzgerald',\n",
        "        'genre': 'Fiction',\n",
        "        'year': 1925,\n",
        "        'available': True\n",
        "    },\n",
        "    {\n",
        "        'title': 'To Kill a Mockingbird',\n",
        "        'author': 'Harper Lee',\n",
        "        'genre': 'Fiction',\n",
        "        'year': 1960,\n",
        "        'available': False\n",
        "    },\n",
        "    {\n",
        "        'title': '1984',\n",
        "        'author': 'George Orwell',\n",
        "        'genre': 'Science Fiction',\n",
        "        'year': 1949,\n",
        "        'available': True\n",
        "    }\n",
        "]\n",
        "students = [\n",
        "    {\n",
        "        'name': 'Ritesh Ranjan',\n",
        "        'student_id': '123456',\n",
        "        'books_issued': ['The Great Gatsby', '1984']\n",
        "    },\n",
        "    {\n",
        "        'name': 'Santosh',\n",
        "        'student_id': '789012',\n",
        "        'books_issued': ['To Kill a Mockingbird']\n",
        "    },\n",
        "    {\n",
        "        'name': 'Aman',\n",
        "        'student_id': '345678',\n",
        "        'books_issued': []\n",
        "    }\n",
        "]\n",
        "\n"
      ],
      "metadata": {
        "id": "xr9lPGScXDyh"
      },
      "execution_count": null,
      "outputs": []
    },
    {
      "cell_type": "markdown",
      "source": [
        "Q3)What is the difference between an expression and a statement? \n",
        "\n",
        "**Expression:**\n",
        "\n",
        "*  An expression is a piece of code that produces a value when evaluated.\n",
        "It can be as simple as a single value or involve complex combinations of operators, variables, and function calls.\n",
        "\n",
        "*  Expressions can be used as part of larger expressions, as arguments to functions, or to assign values to variables.\n",
        "\n",
        "*  Examples of expressions include arithmetic expressions (2 + 3), function calls (math.sqrt(9)), variable references (x), and logical expressions (x > 5 and y < 10).\n",
        "Expressions can be used as part of larger expressions, as arguments to functions, or to assign values to variables.\n",
        "\n",
        "**Statement:**\n",
        "\n",
        "*  A statement is a unit of code that performs an action or a sequence of actions.\n",
        "*  It can include expressions but is not necessarily an expression itself.\n",
        "Statements are typically used to control the flow of a program, perform assignments, make decisions, or repeat actions.\n",
        "*  Examples of statements include assignment statements (x = 5), conditional statements (if-else), loop statements (for, while), and function definitions (def)."
      ],
      "metadata": {
        "id": "z4NymeFqZAon"
      }
    },
    {
      "cell_type": "markdown",
      "source": [
        "Q4) Define following \n",
        "\n",
        "Atomic data types / Primary data types \n",
        "\n",
        "Secondary data type / User Defined Data Type\n",
        "\n",
        "**Atomic Data Types / Primary Data Types:**\n",
        "\n",
        "*  Atomic data types, also known as primary data types, are the fundamental built-in data types provided by a programming language.\n",
        "\n",
        "*  These data types represent basic and indivisible units of data that cannot be further broken down into simpler components.\n",
        "\n",
        "*  Atomic data types in Python include integers (int), floating-point numbers (float), booleans (bool), and strings (str).\n",
        "\n",
        "**Secondary Data Type / User-Defined Data Type:**\n",
        "\n",
        "*  A secondary data type, also known as a user-defined data type, is a data type that is created by the programmer using the built-in data types or other user-defined data types.\n",
        "\n",
        "*  It is derived from or composed of one or more primary data types, allowing for the creation of complex and custom data structures.\n",
        "\n",
        "*  In Python, secondary data types can be created using classes to define objects with attributes and methods.\n",
        "*  Examples of secondary data types in Python can include lists, dictionaries, tuples, sets, and custom-defined classes."
      ],
      "metadata": {
        "id": "u8REArdqaVqC"
      }
    },
    {
      "cell_type": "markdown",
      "source": [
        "Q5) What is UDF? \n",
        "\n",
        "UDF stands for User-Defined Function. In programming, a User-Defined Function refers to a function that is defined by the programmer rather than being built-in or provided by the programming language itself."
      ],
      "metadata": {
        "id": "cYfYKC-sbYuy"
      }
    }
  ]
}