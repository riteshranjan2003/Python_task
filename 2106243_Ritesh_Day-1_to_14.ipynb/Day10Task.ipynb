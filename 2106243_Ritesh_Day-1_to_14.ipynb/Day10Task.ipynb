{
  "nbformat": 4,
  "nbformat_minor": 0,
  "metadata": {
    "colab": {
      "provenance": []
    },
    "kernelspec": {
      "name": "python3",
      "display_name": "Python 3"
    },
    "language_info": {
      "name": "python"
    }
  },
  "cells": [
    {
      "cell_type": "markdown",
      "source": [
        "Q1) Python Program to Check Palindrome Number"
      ],
      "metadata": {
        "id": "JCguker4soPF"
      }
    },
    {
      "cell_type": "code",
      "source": [
        "def is_palindrome(number):\n",
        "    number_str = str(number)\n",
        "    reversed_str = number_str[::-1]\n",
        "    if number_str == reversed_str:\n",
        "        return True\n",
        "    else:\n",
        "        return False\n",
        "\n",
        "num = int(input(\"Enter a number: \"))\n",
        "\n",
        "if is_palindrome(num):\n",
        "    print(num, \"is a palindrome number\")\n",
        "else:\n",
        "    print(num, \"is not a palindrome number\")\n"
      ],
      "metadata": {
        "colab": {
          "base_uri": "https://localhost:8080/"
        },
        "id": "6UCiREDxsqis",
        "outputId": "92b6aac4-8686-476e-969a-ba342c742fa2"
      },
      "execution_count": null,
      "outputs": [
        {
          "output_type": "stream",
          "name": "stdout",
          "text": [
            "Enter a number: 12321\n",
            "12321 is a palindrome number\n"
          ]
        }
      ]
    },
    {
      "cell_type": "markdown",
      "source": [
        "Q2) Python Program to Print all multiples of 3 and 5 in an Interval "
      ],
      "metadata": {
        "id": "LZo1c6nCtjMt"
      }
    },
    {
      "cell_type": "code",
      "source": [
        "def print_multiples(start, end):\n",
        "    for num in range(start, end + 1):\n",
        "        if num % 3 == 0 and num % 5 == 0:\n",
        "            print(num)\n",
        "\n",
        "start_num = int(input(\"Enter the starting number: \"))\n",
        "end_num = int(input(\"Enter the ending number: \"))\n",
        "\n",
        "print(\"Multiples of 3 and 5 in the interval\", start_num, \"to\", end_num, \"are:\")\n",
        "print_multiples(start_num, end_num)\n"
      ],
      "metadata": {
        "colab": {
          "base_uri": "https://localhost:8080/"
        },
        "id": "5zpgJVWCuIOY",
        "outputId": "15e85345-9d3d-4650-b090-6f641f067d6a"
      },
      "execution_count": null,
      "outputs": [
        {
          "output_type": "stream",
          "name": "stdout",
          "text": [
            "Enter the starting number: 10\n",
            "Enter the ending number: 100\n",
            "Multiples of 3 and 5 in the interval 10 to 100 are:\n"
          ]
        }
      ]
    },
    {
      "cell_type": "markdown",
      "source": [
        "Q3) Python Program to Find the Factorial of a Number "
      ],
      "metadata": {
        "id": "ICFjaO5XvF1Y"
      }
    },
    {
      "cell_type": "code",
      "source": [
        "def factorial(num):\n",
        "    if(num==1 or num==0):\n",
        "      return 1\n",
        "    else:\n",
        "       return num*factorial(num-1)\n",
        "num = int(input(\"Enter a number \"))  \n",
        "print(factorial(num))"
      ],
      "metadata": {
        "colab": {
          "base_uri": "https://localhost:8080/"
        },
        "id": "lQ-KxTbWvK_j",
        "outputId": "1f960725-266e-4407-ea8e-e1d5bc1a2748"
      },
      "execution_count": null,
      "outputs": [
        {
          "output_type": "stream",
          "name": "stdout",
          "text": [
            "Enter a number 6\n",
            "720\n"
          ]
        }
      ]
    },
    {
      "cell_type": "markdown",
      "source": [
        "Q4) Python Program to Print the Fibonacci sequence "
      ],
      "metadata": {
        "id": "JOfe89MbxLN2"
      }
    },
    {
      "cell_type": "code",
      "source": [
        "def fibonacci_sequence(n):\n",
        "    sequence = [0, 1]\n",
        "\n",
        "    if n <= 0:\n",
        "        return []\n",
        "\n",
        "    elif n == 1:\n",
        "        return [0]\n",
        "\n",
        "    elif n == 2:\n",
        "        return sequence\n",
        "\n",
        "    else:\n",
        "        for i in range(2, n):\n",
        "            next_number = sequence[i-1] + sequence[i-2]\n",
        "            sequence.append(next_number)\n",
        "\n",
        "        return sequence\n",
        "\n",
        "num_terms = int(input(\"Enter the number of terms: \"))\n",
        "\n",
        "fibonacci = fibonacci_sequence(num_terms)\n",
        "print(\"The Fibonacci sequence of\", num_terms, \"terms is:\")\n",
        "print(fibonacci)\n"
      ],
      "metadata": {
        "colab": {
          "base_uri": "https://localhost:8080/"
        },
        "id": "BvzW_XgTxSLf",
        "outputId": "9369811c-5736-4b20-abb7-e803a5aa104e"
      },
      "execution_count": null,
      "outputs": [
        {
          "output_type": "stream",
          "name": "stdout",
          "text": [
            "Enter the number of terms: 5\n",
            "The Fibonacci sequence of 5 terms is:\n",
            "[0, 1, 1, 2, 3]\n"
          ]
        }
      ]
    },
    {
      "cell_type": "markdown",
      "source": [
        "Q5) Python Program to Check Armstrong Number"
      ],
      "metadata": {
        "id": "liHqjOXOykzJ"
      }
    },
    {
      "cell_type": "code",
      "source": [
        "def is_armstrong(number):\n",
        "    num_str = str(number)\n",
        "    num_digits = len(num_str)\n",
        "    armstrong_sum = sum(int(digit) ** num_digits for digit in num_str)\n",
        "    if armstrong_sum == number:\n",
        "        return True\n",
        "    else:\n",
        "        return False\n",
        "\n",
        "num = int(input(\"Enter a number: \"))\n",
        "\n",
        "if is_armstrong(num):\n",
        "    print(num, \"is an Armstrong number\")\n",
        "else:\n",
        "    print(num, \"is not an Armstrong number\")\n"
      ],
      "metadata": {
        "colab": {
          "base_uri": "https://localhost:8080/"
        },
        "id": "G9h13m6AyrpE",
        "outputId": "fa4e7039-208f-4d6c-f9ce-351e64378cec"
      },
      "execution_count": null,
      "outputs": [
        {
          "output_type": "stream",
          "name": "stdout",
          "text": [
            "Enter a number: 16\n",
            "16 is not an Armstrong number\n"
          ]
        }
      ]
    }
  ]
}