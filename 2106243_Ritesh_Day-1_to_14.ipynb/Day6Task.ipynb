{
  "nbformat": 4,
  "nbformat_minor": 0,
  "metadata": {
    "colab": {
      "provenance": []
    },
    "kernelspec": {
      "name": "python3",
      "display_name": "Python 3"
    },
    "language_info": {
      "name": "python"
    }
  },
  "cells": [
    {
      "cell_type": "markdown",
      "source": [
        "Q1) Write down 10 projects ideas you want to implement using python\n",
        "\n",
        "*  Weather App\n",
        "*  Image Recognition\n",
        "*  Chatbot\n",
        "*  E-commerce Website\n",
        "*  Social Media Analyzer\n",
        "*  Password Manager\n",
        "*  Stock Market Analysis\n",
        "*  Quiz Game \n",
        "*  Language Translator\n",
        "*  Data Visualization"
      ],
      "metadata": {
        "id": "EuHr7oi7cGzh"
      }
    },
    {
      "cell_type": "markdown",
      "source": [
        "Q2) Create at list 5 objects using list, dictionary, it will be good if you store realistic data."
      ],
      "metadata": {
        "id": "e_0igWW8erKd"
      }
    },
    {
      "cell_type": "code",
      "source": [
        "books = [\n",
        "    {'title': 'The Great Gatsby','author': 'F. Scott Fitzgerald','genre': 'Fiction','year': 1925\n",
        "    },\n",
        "    {'title': 'To Kill a Mockingbird','author': 'Harper Lee','genre': 'Fiction','year': 1960\n",
        "    },\n",
        "    {'title': '1984','author': 'George Orwell','genre': 'Science Fiction','year': 1949\n",
        "    }\n",
        "]\n",
        "\n",
        "students = [\n",
        "    {'name': 'John Doe','age': 20,'major': 'Computer Science','gpa': 3.8\n",
        "    },\n",
        "    {'name': 'Jane Smith','age': 22,'major': 'Business Administration','gpa': 3.5\n",
        "    }\n",
        "]\n",
        "cities = [\n",
        "    {'name': 'New York City','population': 8537673,'country': 'United States','continent': 'North America'\n",
        "    },\n",
        "    {'name': 'Tokyo','population': 37435191,'country': 'Japan','continent': 'Asia'\n",
        "    }\n",
        "]\n",
        "products = [\n",
        "    {'name': 'iPhone 12','brand': 'Apple','price': 999.99,'category': 'Electronics'\n",
        "    },\n",
        "    {'name': 'Nike Air Max','brand': 'Nike','price': 129.99,'category': 'Footwear'\n",
        "    }\n",
        "]\n",
        "countries = [\n",
        "    {'name': 'United States','population': 331002651,'capital': 'Washington, D.C.','language': 'English'\n",
        "    },\n",
        "    {'name': 'France','population': 65273511,'capital': 'Paris','language': 'French'\n",
        "    }\n",
        "]\n",
        "\n",
        "print(countries)"
      ],
      "metadata": {
        "colab": {
          "base_uri": "https://localhost:8080/"
        },
        "id": "-yyriFfbe7Su",
        "outputId": "a46045c8-1458-48d3-d53c-ae50e6f10854"
      },
      "execution_count": null,
      "outputs": [
        {
          "output_type": "stream",
          "name": "stdout",
          "text": [
            "[{'name': 'United States', 'population': 331002651, 'capital': 'Washington, D.C.', 'language': 'English'}, {'name': 'France', 'population': 65273511, 'capital': 'Paris', 'language': 'French'}]\n"
          ]
        }
      ]
    },
    {
      "cell_type": "markdown",
      "source": [
        "Q3) What is duck typing in python, what are Dunder or special methods? \n",
        "\n",
        "**Duck Typing:**\n",
        "\n",
        "*  Duck typing is a programming concept in Python that focuses on the behavior of an object rather than its specific type or class.\n",
        "\n",
        "*  In Python, this means that the suitability of an object for a particular operation is determined by whether the object supports the required behavior, rather than its explicit type.\n",
        "*  For example, if an object can perform the necessary methods or operations expected of it, it can be considered suitable for a given context, regardless of its actual class or type.\n",
        "\n",
        "**Dunder (Double Under) or Special Methods:**\n",
        "\n",
        "*  Dunder methods, also known as special methods or magic methods, are predefined methods in Python that have double underscores (underscores both at the beginning and end of the method name).\n",
        "\n",
        "*  These special methods allow classes to define or customize various built-in behaviors and operations.\n",
        "*  For example, the __init__ method is a special method used to initialize an object when it is created."
      ],
      "metadata": {
        "id": "nxFqWhX0hD3Q"
      }
    },
    {
      "cell_type": "markdown",
      "source": [
        "Q4) What are operators? How many types of operators are there in python? \n",
        "\n",
        "Operators are symbols or special characters that perform operations on one or more operands (values or variables). Operators allow you to manipulate data and perform computations in your code.\n",
        "\n",
        "**Mainly there are 7 types of operators in python**\n",
        "1.  Arithmetic Operators\n",
        "2.  Assignment Operators\n",
        "3.  Comparison Operators\n",
        "4.  Logical Operators\n",
        "5.  Bitwise Operators\n",
        "6.  Membership Operators\n",
        "7.  Identity Operators"
      ],
      "metadata": {
        "id": "DXif5kwyiNiK"
      }
    }
  ]
}