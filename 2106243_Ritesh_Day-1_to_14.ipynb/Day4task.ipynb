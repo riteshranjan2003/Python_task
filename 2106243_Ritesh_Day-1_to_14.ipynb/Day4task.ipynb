{
  "nbformat": 4,
  "nbformat_minor": 0,
  "metadata": {
    "colab": {
      "provenance": []
    },
    "kernelspec": {
      "name": "python3",
      "display_name": "Python 3"
    },
    "language_info": {
      "name": "python"
    }
  },
  "cells": [
    {
      "cell_type": "markdown",
      "source": [
        "Q1) Explore split, strip, replace, center, title methods of string data type in python."
      ],
      "metadata": {
        "id": "BsDs5PUIHr4T"
      }
    },
    {
      "cell_type": "code",
      "source": [
        "text = \"Hello, ritesh!\"\n",
        "print(text.split()) \n",
        "\n",
        "text1 = \"    Hello, ritesh!    \"\n",
        "print(text1.strip())\n",
        "\n",
        "text2 = \"I like Apple\"\n",
        "print(text2.replace(\"Apple\",\"Orange\"))\n",
        "\n",
        "text3 = \"Ritesh\"\n",
        "print(text3.center(10,\"-\"))\n",
        "\n",
        "text4 = \"hello ritesh\"\n",
        "print(text4.title())"
      ],
      "metadata": {
        "colab": {
          "base_uri": "https://localhost:8080/"
        },
        "id": "Fg7ma8WVHvaE",
        "outputId": "a81b9bf0-51c3-4adc-dd19-0c8326ee1621"
      },
      "execution_count": null,
      "outputs": [
        {
          "output_type": "stream",
          "name": "stdout",
          "text": [
            "['Hello,', 'ritesh!']\n",
            "Hello, ritesh!\n",
            "I like Orange\n",
            "--Ritesh--\n",
            "Hello Ritesh\n"
          ]
        }
      ]
    },
    {
      "cell_type": "markdown",
      "source": [
        "Q2) Explore append, pop, remove, sort methods of list data type."
      ],
      "metadata": {
        "id": "md_-4OlJKLBg"
      }
    },
    {
      "cell_type": "code",
      "source": [
        "nums = [1,2,3]\n",
        "nums.append(4)\n",
        "print(nums)\n",
        "nums.pop()\n",
        "print(nums)\n",
        "\n",
        "friends = ['Ritesh','Palak','Ranjan','Santosh','Aman']\n",
        "friends.remove('Santosh')\n",
        "print(friends)\n",
        "\n",
        "friends.sort()\n",
        "print(friends)\n",
        "\n"
      ],
      "metadata": {
        "colab": {
          "base_uri": "https://localhost:8080/"
        },
        "id": "RpeN5x6vKO4A",
        "outputId": "8bd1b261-2713-4a75-db1b-4aff6d109534"
      },
      "execution_count": null,
      "outputs": [
        {
          "output_type": "stream",
          "name": "stdout",
          "text": [
            "[1, 2, 3, 4]\n",
            "[1, 2, 3]\n",
            "['Ritesh', 'Palak', 'Ranjan', 'Aman']\n",
            "['Aman', 'Palak', 'Ranjan', 'Ritesh']\n"
          ]
        }
      ]
    },
    {
      "cell_type": "markdown",
      "source": [
        "Q3) Create 5 real time lists to store some useful information in python eg. Language = [ ‘java’, ‘c’, ‘c++’, ‘ruby’ ] "
      ],
      "metadata": {
        "id": "TUrk1OjCNOsY"
      }
    },
    {
      "cell_type": "code",
      "source": [
        "language = ['java','c','c++','ruby']\n",
        "fruits = ['Apple','Mango','Orange','Banana']\n",
        "countries = ['USA', 'Canada', 'Australia', 'India']\n",
        "car_brands = ['Toyota', 'Honda', 'Ford', 'BMW']\n",
        "programming_concepts = ['Variables', 'Loops', 'Functions', 'Recursion']\n",
        "language.sort()\n",
        "print(language)\n"
      ],
      "metadata": {
        "colab": {
          "base_uri": "https://localhost:8080/"
        },
        "id": "_XefrskzNUWW",
        "outputId": "e708a30a-4034-4ca0-90bc-b1292b65a220"
      },
      "execution_count": null,
      "outputs": [
        {
          "output_type": "stream",
          "name": "stdout",
          "text": [
            "['c', 'c++', 'java', 'ruby']\n"
          ]
        }
      ]
    },
    {
      "cell_type": "markdown",
      "source": [
        "Q4) What is difference between mutable and immutable data types in python.\n",
        "\n",
        "**Mutable**\n",
        "\n",
        "*   Mutable data types are those whose values can be changed after they are assigned.\n",
        "*   You can modify mutable objects directly without creating a new object.\n",
        "*   Examples of mutable data types in Python include lists (list), dictionaries (dict), and sets (set).\n",
        "\n",
        "**Immutable**\n",
        "\n",
        "*   Immutable data types are those whose values cannot be changed once they are assigned.\n",
        "*   If you want to modify an immutable object, you need to create a new object with the desired value.\n",
        "*   Examples of immutable data types in Python include integers (int), floating-point numbers (float), booleans (bool), strings (str), and tuples (tuple).\n",
        "\n"
      ],
      "metadata": {
        "id": "YKHmPoPePvxu"
      }
    },
    {
      "cell_type": "markdown",
      "source": [
        "Q5) What are identifiers, list rules of identifiers in python.\n",
        "\n",
        "Identifiers in Python are names used to identify variables, functions, classes, modules, or any other user-defined objects. They are used to give a unique name to these entities, making it easier to refer to them in the code. \n",
        "\n",
        "Here are the rules for defining identifiers in Python.\n",
        "\n",
        "*   Valid Characters\n",
        "*   Case-Sensitivity\n",
        "*   Reserved Words\n",
        "*   Length Limit\n",
        "*   Naming Convention "
      ],
      "metadata": {
        "id": "ob0Uu3S2RH70"
      }
    }
  ]
}