{
  "nbformat": 4,
  "nbformat_minor": 0,
  "metadata": {
    "colab": {
      "provenance": []
    },
    "kernelspec": {
      "name": "python3",
      "display_name": "Python 3"
    },
    "language_info": {
      "name": "python"
    }
  },
  "cells": [
    {
      "cell_type": "markdown",
      "source": [
        "Q1) Write a Python program to check whether a number is negative, positive or zero. "
      ],
      "metadata": {
        "id": "IknFvS3Z4TVQ"
      }
    },
    {
      "cell_type": "code",
      "source": [
        "def check_number(num):\n",
        "  if(num>0):\n",
        "    return \"positive\"\n",
        "  elif(num<0):\n",
        "    return \"negative\"\n",
        "  else:\n",
        "    return \"Zero\"\n",
        "\n",
        "num1 = float(input(\"Enter a number \"))\n",
        "result = check_number(num1)\n",
        "print(f\"The number is {result}.\")"
      ],
      "metadata": {
        "colab": {
          "base_uri": "https://localhost:8080/"
        },
        "id": "GJZj5ZNH4iNS",
        "outputId": "524ec3b4-98a9-43f3-973d-1e837125f49e"
      },
      "execution_count": null,
      "outputs": [
        {
          "output_type": "stream",
          "name": "stdout",
          "text": [
            "Enter a number 2\n",
            "The number is positive.\n"
          ]
        }
      ]
    },
    {
      "cell_type": "markdown",
      "source": [
        "Q2) Write a Python program to check whether a number is divisible by 5 and 11 or not. "
      ],
      "metadata": {
        "id": "fE4rZdQe7VD4"
      }
    },
    {
      "cell_type": "code",
      "source": [
        "def check_divisibility(num):\n",
        "  if(num%5==0 & num%11==0):\n",
        "    return True\n",
        "  else:\n",
        "    return False\n",
        "\n",
        "num1 = int(input(\"Enter a number \"))\n",
        "if check_divisibility(num1):\n",
        "  print(\"The number is divisible by 5 and 11\")\n",
        "else:\n",
        "  print(\"The number is not divisible by 5 and 11\")"
      ],
      "metadata": {
        "colab": {
          "base_uri": "https://localhost:8080/"
        },
        "id": "GF8Ruaxx7gvw",
        "outputId": "c71c4d24-d3ae-4179-869b-13c5184074d7"
      },
      "execution_count": null,
      "outputs": [
        {
          "output_type": "stream",
          "name": "stdout",
          "text": [
            "Enter a number 55\n",
            "The number is divisible by 5 and 11\n"
          ]
        }
      ]
    },
    {
      "cell_type": "markdown",
      "source": [
        "Q3) Write a Python program to check whether a year is leap year or not. "
      ],
      "metadata": {
        "id": "swPFwYps9p-0"
      }
    },
    {
      "cell_type": "code",
      "source": [
        "def is_leap_year(year):\n",
        "  if(year%4==0):\n",
        "    if(year%100==0):\n",
        "      if(year%400==0):\n",
        "        return True\n",
        "      else:\n",
        "        return False\n",
        "    else:\n",
        "      return True\n",
        "  else:\n",
        "    return False\n",
        "\n",
        "year = int(input(\"Enter a Year \"))\n",
        "if is_leap_year(year):\n",
        "  print(f\"{year} is a leap year\")\n",
        "else:\n",
        "  print(f\"{year} is not a leap year\")"
      ],
      "metadata": {
        "colab": {
          "base_uri": "https://localhost:8080/"
        },
        "id": "xjpgVzkr-G3X",
        "outputId": "f775b70b-c1fa-4a67-951f-8b365438ac5d"
      },
      "execution_count": null,
      "outputs": [
        {
          "output_type": "stream",
          "name": "stdout",
          "text": [
            "Enter a Year 2002\n",
            "2002 is not a leap year\n"
          ]
        }
      ]
    },
    {
      "cell_type": "markdown",
      "source": [
        "Q4) Write a Python program to check whether a character is alphabet or not."
      ],
      "metadata": {
        "id": "y_nUALVE_khb"
      }
    },
    {
      "cell_type": "code",
      "source": [
        "def is_alphabet(character):\n",
        "  if(character>='a' and character<='z') or (character>='A' and character<='Z'):\n",
        "    return True\n",
        "  else:\n",
        "    return False\n",
        "\n",
        "character = input(\"Enter a character \")\n",
        "if is_alphabet(character):\n",
        "  print(f\"{character} is alphabet\")\n",
        "else:\n",
        "  print(f\"{character} is not alphabet\")"
      ],
      "metadata": {
        "colab": {
          "base_uri": "https://localhost:8080/"
        },
        "id": "iOwubvGP_3FT",
        "outputId": "35fe021b-55fd-4de7-8b11-4195f3b1815a"
      },
      "execution_count": null,
      "outputs": [
        {
          "output_type": "stream",
          "name": "stdout",
          "text": [
            "Enter a character 909\n",
            "909 is not alphabet\n"
          ]
        }
      ]
    },
    {
      "cell_type": "markdown",
      "source": [
        "Q5) Write a Python program to input any alphabet and check whether it is vowel or consonant. "
      ],
      "metadata": {
        "id": "VtscwOazBDjG"
      }
    },
    {
      "cell_type": "code",
      "source": [
        "def is_vowel(character):\n",
        "    vowels = ['a', 'e', 'i', 'o', 'u']\n",
        "    if character.lower() in vowels:\n",
        "        return True\n",
        "    else:\n",
        "        return False\n",
        "        \n",
        "char = input(\"Enter a character: \")\n",
        "if len(char) == 1 and char.isalpha():\n",
        "    if is_vowel(char):\n",
        "        print(f\"{char} is a vowel.\")\n",
        "    else:\n",
        "        print(f\"{char} is a consonant.\")\n",
        "else:\n",
        "    print(\"Please enter a single alphabet.\")\n"
      ],
      "metadata": {
        "id": "l81w7718BMPI",
        "colab": {
          "base_uri": "https://localhost:8080/"
        },
        "outputId": "58f15e42-a836-43cb-d564-d1207a35a3d3"
      },
      "execution_count": null,
      "outputs": [
        {
          "output_type": "stream",
          "name": "stdout",
          "text": [
            "Enter a character: e\n",
            "e is a vowel.\n"
          ]
        }
      ]
    },
    {
      "cell_type": "markdown",
      "source": [
        "Q6) Write a Python program to input any character and check whether it is alphabet, digit or special character. "
      ],
      "metadata": {
        "id": "Vi7z_tUfE7qv"
      }
    },
    {
      "cell_type": "code",
      "source": [
        "def check_character_type(character):\n",
        "    if character.isalpha():\n",
        "        return \"Alphabet\"\n",
        "    elif character.isdigit():\n",
        "        return \"Digit\"\n",
        "    else:\n",
        "        return \"Special Character\"\n",
        "\n",
        "char = input(\"Enter a character: \")\n",
        "if len(char) == 1:\n",
        "    result = check_character_type(char)\n",
        "    print(f\"The character is {result}.\")\n",
        "else:\n",
        "    print(\"Please enter a single character.\")\n"
      ],
      "metadata": {
        "colab": {
          "base_uri": "https://localhost:8080/"
        },
        "id": "gb2u8W4nE_fX",
        "outputId": "f727ebb2-624c-4aec-c8b4-a15d4b62ce21"
      },
      "execution_count": null,
      "outputs": [
        {
          "output_type": "stream",
          "name": "stdout",
          "text": [
            "Enter a character: r\n",
            "The character is Alphabet.\n"
          ]
        }
      ]
    },
    {
      "cell_type": "markdown",
      "source": [
        "Q7) Write a Python program to check whether a character is uppercase or lowercase alphabet. "
      ],
      "metadata": {
        "id": "K2n69g2HGNCR"
      }
    },
    {
      "cell_type": "code",
      "source": [
        "def check_case(character):\n",
        "  if(character>='A' and character<='Z'):\n",
        "    return \"The character is uppercase\"\n",
        "  else:\n",
        "    return \"The character is lower case\"\n",
        "\n",
        "character = input(\"Enter a character \")\n",
        "print(check_case(character))"
      ],
      "metadata": {
        "colab": {
          "base_uri": "https://localhost:8080/"
        },
        "id": "jLDIDMKgGV0g",
        "outputId": "083e4be3-d81c-47c7-8960-50e56d53e3f8"
      },
      "execution_count": null,
      "outputs": [
        {
          "output_type": "stream",
          "name": "stdout",
          "text": [
            "Enter a character e\n",
            "The character is lower case\n"
          ]
        }
      ]
    },
    {
      "cell_type": "markdown",
      "source": [
        "Q8) Write a Python program to input week number and print weekday. "
      ],
      "metadata": {
        "id": "GdxzRKQvI9iG"
      }
    },
    {
      "cell_type": "code",
      "source": [
        "def get_weekday():\n",
        "  week_number = int(input(\"Enter the week number: \"))\n",
        "\n",
        "  if week_number == 1:\n",
        "    weekday = 'Monday'\n",
        "  elif week_number == 2:\n",
        "    weekday = 'Tuesday'\n",
        "  elif week_number == 3:\n",
        "    weekday = 'Wednesday'\n",
        "  elif week_number == 4:\n",
        "    weekday = 'Thursday'\n",
        "  elif week_number == 5:\n",
        "    weekday = 'friday'\n",
        "  elif week_number == 6:\n",
        "    weekday = 'Saturday'\n",
        "  elif week_number == 7:\n",
        "    weekday = 'Sunday'\n",
        "  else:\n",
        "    print(\"Invalid!! week number\")\n",
        "    return\n",
        "\n",
        "  print(f\"The week day for {week_number} is {weekday}\")\n",
        "get_weekday()"
      ],
      "metadata": {
        "id": "GPNj4Z2aLyWG",
        "colab": {
          "base_uri": "https://localhost:8080/"
        },
        "outputId": "cf090ecb-0f65-45e6-a479-734d3939bb13"
      },
      "execution_count": null,
      "outputs": [
        {
          "output_type": "stream",
          "name": "stdout",
          "text": [
            "Enter the week number: 3\n",
            "The week day for 3 is Wednesday\n"
          ]
        }
      ]
    },
    {
      "cell_type": "markdown",
      "source": [
        "Q9) Write a Python program to input angles of a triangle and check whether triangle is valid or not."
      ],
      "metadata": {
        "id": "LqzsBJz7MkwF"
      }
    },
    {
      "cell_type": "code",
      "source": [
        "def check_triangle_validity():\n",
        "    angle1 = int(input(\"Enter the first angle: \"))\n",
        "    angle2 = int(input(\"Enter the second angle: \"))\n",
        "    angle3 = int(input(\"Enter the third angle: \"))\n",
        "\n",
        "    if angle1 + angle2 + angle3 == 180:\n",
        "        print(\"The triangle is valid.\")\n",
        "    else:\n",
        "        print(\"The triangle is not valid.\")\n",
        "\n",
        "check_triangle_validity()\n"
      ],
      "metadata": {
        "colab": {
          "base_uri": "https://localhost:8080/"
        },
        "id": "nzJDjx6kM1dV",
        "outputId": "14ee436e-0e50-4c06-b5ee-48bbe9fd97ad"
      },
      "execution_count": null,
      "outputs": [
        {
          "output_type": "stream",
          "name": "stdout",
          "text": [
            "Enter the first angle: 80\n",
            "Enter the second angle: 90\n",
            "Enter the third angle: 10\n",
            "The triangle is valid.\n"
          ]
        }
      ]
    },
    {
      "cell_type": "markdown",
      "source": [
        "Q10) Write a Python program to input all sides of a triangle and check whether triangle is valid or not. "
      ],
      "metadata": {
        "id": "LnFBKzu8NWmx"
      }
    },
    {
      "cell_type": "code",
      "source": [
        "def check_triangle_validity():\n",
        "    side1 = float(input(\"Enter the length of side 1: \"))\n",
        "    side2 = float(input(\"Enter the length of side 2: \"))\n",
        "    side3 = float(input(\"Enter the length of side 3: \"))\n",
        "\n",
        "    if side1 + side2 > side3 and side2 + side3 > side1 and side1 + side3 > side2:\n",
        "        print(\"The triangle is valid.\")\n",
        "    else:\n",
        "        print(\"The triangle is not valid.\")\n",
        "\n",
        "check_triangle_validity()\n"
      ],
      "metadata": {
        "colab": {
          "base_uri": "https://localhost:8080/"
        },
        "id": "H5HdusN3NXDq",
        "outputId": "af254d03-0a4a-4f14-cafb-7b2f2ff5ee03"
      },
      "execution_count": null,
      "outputs": [
        {
          "output_type": "stream",
          "name": "stdout",
          "text": [
            "Enter the length of side 1: 90\n",
            "Enter the length of side 2: 90\n",
            "Enter the length of side 3: 0\n",
            "The triangle is not valid.\n"
          ]
        }
      ]
    },
    {
      "cell_type": "code",
      "source": [
        "Q11) Write a Python program to check whether the triangle is equilateral, isosceles or scalene triangle. "
      ],
      "metadata": {
        "id": "Hn9CgVbON3LP"
      },
      "execution_count": null,
      "outputs": []
    },
    {
      "cell_type": "code",
      "source": [
        "def check_triangle_type():\n",
        "    side1 = float(input(\"Enter the length of side 1: \"))\n",
        "    side2 = float(input(\"Enter the length of side 2: \"))\n",
        "    side3 = float(input(\"Enter the length of side 3: \"))\n",
        "\n",
        "    if side1 == side2 == side3:\n",
        "        print(\"The triangle is an equilateral triangle.\")\n",
        "    elif side1 == side2 or side2 == side3 or side1 == side3:\n",
        "        print(\"The triangle is an isosceles triangle.\")6\n",
        "    else:\n",
        "        print(\"The triangle is a scalene triangle.\")\n",
        "\n",
        "check_triangle_type()\n"
      ],
      "metadata": {
        "colab": {
          "base_uri": "https://localhost:8080/"
        },
        "id": "o3XUMYi4N4vw",
        "outputId": "545c5bdc-211a-4b75-e321-ff29f5e74f39"
      },
      "execution_count": null,
      "outputs": [
        {
          "output_type": "stream",
          "name": "stdout",
          "text": [
            "Enter the length of side 1: 60\n",
            "Enter the length of side 2: 60\n",
            "Enter the length of side 3: 60\n",
            "The triangle is an equilateral triangle.\n"
          ]
        }
      ]
    },
    {
      "cell_type": "markdown",
      "source": [
        "Q12) Write a Python program to input marks of five subjects Physics, Chemistry, Biology, Mathematics and Computer. Calculate percentage and grade according to following:  \n",
        "\n",
        "Percentage >= 90% : Grade A \n",
        "\n",
        "Percentage >= 80% : Grade B  \n",
        "\n",
        "Percentage >= 70% : Grade C  \n",
        "\n",
        "Percentage >= 60% : Grade D  \n",
        "\n",
        "Percentage >= 40% : Grade E  \n",
        "\n",
        "Percentage < 40% : Grade F"
      ],
      "metadata": {
        "id": "0eFAMJjfOUOS"
      }
    },
    {
      "cell_type": "code",
      "source": [
        "def calculate_grade():\n",
        "    physics = float(input(\"Enter the marks obtained in Physics: \"))\n",
        "    chemistry = float(input(\"Enter the marks obtained in Chemistry: \"))\n",
        "    biology = float(input(\"Enter the marks obtained in Biology: \"))\n",
        "    mathematics = float(input(\"Enter the marks obtained in Mathematics: \"))\n",
        "    computer = float(input(\"Enter the marks obtained in Computer: \"))\n",
        "\n",
        "    total_marks = physics + chemistry + biology + mathematics + computer\n",
        "    percentage = (total_marks / 500) * 100\n",
        "\n",
        "    grade = ''\n",
        "    if percentage >= 90:\n",
        "        grade = 'A'\n",
        "    elif percentage >= 80:\n",
        "        grade = 'B'\n",
        "    elif percentage >= 70:\n",
        "        grade = 'C'\n",
        "    elif percentage >= 60:\n",
        "        grade = 'D'\n",
        "    elif percentage >= 40:\n",
        "        grade = 'E'\n",
        "    else:\n",
        "        grade = 'F'\n",
        "\n",
        "    print(f\"Percentage: {percentage}%\")\n",
        "    print(f\"Grade: {grade}\")\n",
        "\n",
        "calculate_grade()\n"
      ],
      "metadata": {
        "colab": {
          "base_uri": "https://localhost:8080/"
        },
        "id": "lh67Bs7TOhME",
        "outputId": "25979d91-64b7-4c81-f678-56b36cf2ed57"
      },
      "execution_count": null,
      "outputs": [
        {
          "output_type": "stream",
          "name": "stdout",
          "text": [
            "Enter the marks obtained in Physics: 100\n",
            "Enter the marks obtained in Chemistry: 78\n",
            "Enter the marks obtained in Biology: 98\n",
            "Enter the marks obtained in Mathematics: 99\n",
            "Enter the marks obtained in Computer: 78\n",
            "Percentage: 90.60000000000001%\n",
            "Grade: A\n"
          ]
        }
      ]
    },
    {
      "cell_type": "markdown",
      "source": [
        "Q13) Write a Python program to input basic salary of an employee and calculate its Gross salary according to following:  \n",
        "\n",
        "                Basic Salary <= 10000 : HRA = 20%, DA = 80%  \n",
        "\n",
        "                Basic Salary <= 20000 : HRA = 25%, DA = 90%  \n",
        "\n",
        "                Basic Salary > 20000 : HRA = 30%, DA = 95% "
      ],
      "metadata": {
        "id": "IVC2VeShRk37"
      }
    },
    {
      "cell_type": "code",
      "source": [
        "def calculate_gross_salary():\n",
        "    basic_salary = float(input(\"Enter the basic salary of the employee: \"))\n",
        "\n",
        "    if basic_salary <= 10000:\n",
        "        hra = 0.2 * basic_salary\n",
        "        da = 0.8 * basic_salary\n",
        "    elif basic_salary <= 20000:\n",
        "        hra = 0.25 * basic_salary\n",
        "        da = 0.9 * basic_salary\n",
        "    else:\n",
        "        hra = 0.3 * basic_salary\n",
        "        da = 0.95 * basic_salary\n",
        "\n",
        "    gross_salary = basic_salary + hra + da\n",
        "\n",
        "    print(f\"Gross Salary: {gross_salary}\")\n",
        "\n",
        "calculate_gross_salary()\n"
      ],
      "metadata": {
        "colab": {
          "base_uri": "https://localhost:8080/"
        },
        "id": "yvXN_qHTRvUW",
        "outputId": "628aa318-73bf-4766-e231-2558c2cc2e39"
      },
      "execution_count": null,
      "outputs": [
        {
          "output_type": "stream",
          "name": "stdout",
          "text": [
            "Enter the basic salary of the employee: 11000\n",
            "Gross Salary: 23650.0\n"
          ]
        }
      ]
    },
    {
      "cell_type": "markdown",
      "source": [
        "Q14) Write a Python Program to input electricity unit charges and calculate total electricity bill according to the given condition:  \n",
        "\n",
        "    For first 50 units Rs. 0.50/unit \n",
        "    For next 100 units Rs. 0.75/unit \n",
        "    For next 100 units Rs. 1.20/unit \n",
        "    For unit above 250 Rs. 1.50/unit \n",
        "    An additional surcharge of 20% is added to the bill \n",
        "\n",
        " "
      ],
      "metadata": {
        "id": "-f6n-RE_Sqnw"
      }
    },
    {
      "cell_type": "code",
      "source": [
        "def calculate_electricity_bill():\n",
        "    unit_charges = float(input(\"Enter the electricity unit charges: \"))\n",
        "\n",
        "    if unit_charges <= 50:\n",
        "        total_bill = unit_charges * 0.50\n",
        "    elif unit_charges <= 150:\n",
        "        total_bill = (50 * 0.50) + ((unit_charges - 50) * 0.75)\n",
        "    elif unit_charges <= 250:\n",
        "        total_bill = (50 * 0.50) + (100 * 0.75) + ((unit_charges - 150) * 1.20)\n",
        "    else:\n",
        "        total_bill = (50 * 0.50) + (100 * 0.75) + (100 * 1.20) + ((unit_charges - 250) * 1.50)\n",
        "\n",
        "    surcharge = total_bill * 0.20\n",
        "    total_bill += surcharge\n",
        "\n",
        "    print(f\"Total Electricity Bill: Rs. {total_bill:.2f}\")\n",
        "\n",
        "calculate_electricity_bill()\n"
      ],
      "metadata": {
        "colab": {
          "base_uri": "https://localhost:8080/"
        },
        "id": "ya7CT-38S-Bw",
        "outputId": "e6b82e30-542c-48ba-f3f4-5bbe55a23843"
      },
      "execution_count": null,
      "outputs": [
        {
          "output_type": "stream",
          "name": "stdout",
          "text": [
            "Enter the electricity unit charges: 50\n",
            "Total Electricity Bill: Rs. 30.00\n"
          ]
        }
      ]
    }
  ]
}