{
  "nbformat": 4,
  "nbformat_minor": 0,
  "metadata": {
    "colab": {
      "provenance": []
    },
    "kernelspec": {
      "name": "python3",
      "display_name": "Python 3"
    },
    "language_info": {
      "name": "python"
    }
  },
  "cells": [
    {
      "cell_type": "code",
      "execution_count": null,
      "metadata": {
        "colab": {
          "base_uri": "https://localhost:8080/"
        },
        "id": "KLQjQWX3Fegb",
        "outputId": "6be88933-7187-4277-dd55-1f6de5d0954c"
      },
      "outputs": [
        {
          "output_type": "stream",
          "name": "stdout",
          "text": [
            "Welcome to the Guess Game!\n",
            "Guess the number between 1 and 50.\n",
            "You have 5 chances to guess the correct number.\n",
            "Enter your guess: 3\n",
            "Hint: Think a bigger number!\n",
            "You have 4 chances left.\n",
            "Enter your guess: 5\n",
            "Hint: Think a bigger number!\n",
            "You have 3 chances left.\n",
            "Enter your guess: 10\n",
            "Hint: Think a bigger number!\n",
            "You have 2 chances left.\n",
            "Enter your guess: 34\n",
            "Hint: Think a smaller number!\n",
            "You have 1 chances left.\n",
            "Enter your guess: 23\n",
            "Hint: Think a smaller number!\n",
            "You have 0 chances left.\n",
            "Game over! You have used all your chances.\n",
            "The actual number was 20.\n"
          ]
        }
      ],
      "source": [
        "import random\n",
        "\n",
        "def guess_game():\n",
        "    actual_number = random.randint(1, 50)\n",
        "    chances = 5\n",
        "\n",
        "    print(\"Welcome to the Guess Game!\")\n",
        "    print(\"Guess the number between 1 and 50.\")\n",
        "    print(f\"You have {chances} chances to guess the correct number.\")\n",
        "\n",
        "    while chances > 0:\n",
        "        user_guess = int(input(\"Enter your guess: \"))\n",
        "\n",
        "        if user_guess < 1 or user_guess > 50:\n",
        "            print(\"Think in limits 1-50 only!\")\n",
        "            continue\n",
        "\n",
        "        if user_guess < actual_number:\n",
        "            print(\"Hint: Think a bigger number!\")\n",
        "        elif user_guess > actual_number:\n",
        "            print(\"Hint: Think a smaller number!\")\n",
        "        else:\n",
        "            print(\"Congratulations! You guessed the correct number!\")\n",
        "            return\n",
        "\n",
        "        chances -= 1\n",
        "        print(f\"You have {chances} chances left.\")\n",
        "\n",
        "    print(\"Game over! You have used all your chances.\")\n",
        "    print(f\"The actual number was {actual_number}.\")\n",
        "\n",
        "guess_game()\n"
      ]
    }
  ]
}