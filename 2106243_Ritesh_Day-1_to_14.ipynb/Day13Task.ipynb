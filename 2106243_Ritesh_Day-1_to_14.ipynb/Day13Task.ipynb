{
  "nbformat": 4,
  "nbformat_minor": 0,
  "metadata": {
    "colab": {
      "provenance": []
    },
    "kernelspec": {
      "name": "python3",
      "display_name": "Python 3"
    },
    "language_info": {
      "name": "python"
    }
  },
  "cells": [
    {
      "cell_type": "markdown",
      "source": [
        "Q1) Write a Python Code to count the Number of Each Vowel in a given string "
      ],
      "metadata": {
        "id": "2nM1-uCJ1lT3"
      }
    },
    {
      "cell_type": "code",
      "source": [
        "def count_vowels(string):\n",
        "    vowels = 'aeiou'\n",
        "    vowel_count = {vowel: 0 for vowel in vowels}\n",
        "\n",
        "    for char in string:\n",
        "        if char.lower() in vowels:\n",
        "            vowel_count[char.lower()] += 1\n",
        "\n",
        "    return vowel_count\n",
        "\n",
        "input_string = input(\"Enter a string: \")\n",
        "\n",
        "result = count_vowels(input_string)\n",
        "print(\"Number of each vowel in the given string:\")\n",
        "for vowel, count in result.items():\n",
        "    print(vowel, \": \", count)\n"
      ],
      "metadata": {
        "colab": {
          "base_uri": "https://localhost:8080/"
        },
        "id": "72h7w7T01ndW",
        "outputId": "a7781efd-ed35-47e9-ec46-0b8ab79464c6"
      },
      "execution_count": null,
      "outputs": [
        {
          "output_type": "stream",
          "name": "stdout",
          "text": [
            "Enter a string: hello ritesh ranjan\n",
            "Number of each vowel in the given string:\n",
            "a :  2\n",
            "e :  2\n",
            "i :  1\n",
            "o :  1\n",
            "u :  0\n"
          ]
        }
      ]
    },
    {
      "cell_type": "markdown",
      "source": [
        "Q2) Write a Python Code to count number of words, characters and number of spaces in a given stirng "
      ],
      "metadata": {
        "id": "72bAfgM_3ViN"
      }
    },
    {
      "cell_type": "code",
      "source": [
        "def count_stats(string):\n",
        "    word_count = len(string.split())\n",
        "    char_count = len(string)\n",
        "    space_count = string.count(' ')\n",
        "\n",
        "    return word_count, char_count, space_count\n",
        "\n",
        "input_string = input(\"Enter a string: \")\n",
        "\n",
        "word_count, char_count, space_count = count_stats(input_string)\n",
        "print(\"Number of words:\", word_count)\n",
        "print(\"Number of characters:\", char_count)\n",
        "print(\"Number of spaces:\", space_count)\n"
      ],
      "metadata": {
        "colab": {
          "base_uri": "https://localhost:8080/"
        },
        "id": "JaadKoGi3cbc",
        "outputId": "21bb6ac3-8e07-4df5-9289-b2a9b73240e4"
      },
      "execution_count": null,
      "outputs": [
        {
          "output_type": "stream",
          "name": "stdout",
          "text": [
            "Enter a string: hello ritesh how 123 are u\n",
            "Number of words: 6\n",
            "Number of characters: 26\n",
            "Number of spaces: 5\n"
          ]
        }
      ]
    },
    {
      "cell_type": "markdown",
      "source": [
        "Q3) Write a Python Program to remove punctuation from a given string (using loop) "
      ],
      "metadata": {
        "id": "gPfJJp-I5jB2"
      }
    },
    {
      "cell_type": "code",
      "source": [
        "def remove_punctuation(input_string):\n",
        "    punctuations = '''!()-[]{};:'\"\\,<>./?@#$%^&*_~'''\n",
        "    cleaned_string = \"\"\n",
        "\n",
        "    for char in input_string:\n",
        "        if char not in punctuations:\n",
        "            cleaned_string += char\n",
        "\n",
        "    return cleaned_string\n",
        "\n",
        "input_string = input(\"Enter a string: \")\n",
        "\n",
        "result = remove_punctuation(input_string)\n",
        "print(\"String after removing punctuation:\", result)\n"
      ],
      "metadata": {
        "colab": {
          "base_uri": "https://localhost:8080/"
        },
        "id": "qLkLJuXD56YF",
        "outputId": "3e71bb5f-ecb5-468b-da29-304c494e5e9d"
      },
      "execution_count": null,
      "outputs": [
        {
          "output_type": "stream",
          "name": "stdout",
          "text": [
            "Enter a string: hello ritesh r@n*n\n",
            "String after removing punctuation: hello ritesh rnn\n"
          ]
        }
      ]
    },
    {
      "cell_type": "markdown",
      "source": [
        "Q4) Write a Python Program to take a mxn matrix input from user and stored in nested list "
      ],
      "metadata": {
        "id": "Z2mmPvIb6dX7"
      }
    },
    {
      "cell_type": "code",
      "source": [
        "def create_matrix(rows, columns):\n",
        "    matrix = []\n",
        "\n",
        "    for i in range(rows):\n",
        "        row = []\n",
        "        for j in range(columns):\n",
        "            element = int(input(f\"Enter element at position ({i+1},{j+1}): \"))\n",
        "            row.append(element)\n",
        "        matrix.append(row)\n",
        "\n",
        "    return matrix\n",
        "    \n",
        "num_rows = int(input(\"Enter the number of rows: \"))\n",
        "num_columns = int(input(\"Enter the number of columns: \"))\n",
        "\n",
        "matrix = create_matrix(num_rows, num_columns)\n",
        "print(\"Matrix:\")\n",
        "for row in matrix:\n",
        "    print(row)\n"
      ],
      "metadata": {
        "colab": {
          "base_uri": "https://localhost:8080/"
        },
        "id": "ZU60Xd556kAd",
        "outputId": "7f5ce58e-f5eb-4212-f34e-561ece121b8d"
      },
      "execution_count": null,
      "outputs": [
        {
          "output_type": "stream",
          "name": "stdout",
          "text": [
            "Enter the number of rows: 2\n",
            "Enter the number of columns: 2\n",
            "Enter element at position (1,1): 1\n",
            "Enter element at position (1,2): 2\n",
            "Enter element at position (2,1): 3\n",
            "Enter element at position (2,2): 4\n",
            "Matrix:\n",
            "[1, 2]\n",
            "[3, 4]\n"
          ]
        }
      ]
    },
    {
      "cell_type": "markdown",
      "source": [
        "Q5) Write a Python Program to add, multiply and transpose two matrices given by user"
      ],
      "metadata": {
        "id": "zTWTEuex7y_P"
      }
    },
    {
      "cell_type": "code",
      "source": [
        "def create_matrix(rows, columns):\n",
        "    matrix = []\n",
        "\n",
        "    for i in range(rows):\n",
        "        row = []\n",
        "        for j in range(columns):\n",
        "            element = int(input(f\"Enter element at position ({i+1},{j+1}): \"))\n",
        "            row.append(element)\n",
        "        matrix.append(row)\n",
        "\n",
        "    return matrix\n",
        "\n",
        "\n",
        "def add_matrices(matrix1, matrix2):\n",
        "    if len(matrix1) != len(matrix2) or len(matrix1[0]) != len(matrix2[0]):\n",
        "        return None\n",
        "\n",
        "    result = []\n",
        "    for i in range(len(matrix1)):\n",
        "        row = []\n",
        "        for j in range(len(matrix1[0])):\n",
        "            sum_element = matrix1[i][j] + matrix2[i][j]\n",
        "            row.append(sum_element)\n",
        "        result.append(row)\n",
        "\n",
        "    return result\n",
        "\n",
        "\n",
        "def multiply_matrices(matrix1, matrix2):\n",
        "    if len(matrix1[0]) != len(matrix2):\n",
        "        return None\n",
        "\n",
        "    result = []\n",
        "    for i in range(len(matrix1)):\n",
        "        row = []\n",
        "        for j in range(len(matrix2[0])):\n",
        "            element = 0\n",
        "            for k in range(len(matrix2)):\n",
        "                element += matrix1[i][k] * matrix2[k][j]\n",
        "            row.append(element)\n",
        "        result.append(row)\n",
        "\n",
        "    return result\n",
        "\n",
        "\n",
        "def transpose_matrix(matrix):\n",
        "    rows = len(matrix)\n",
        "    columns = len(matrix[0])\n",
        "    transposed = []\n",
        "\n",
        "    for j in range(columns):\n",
        "        row = []\n",
        "        for i in range(rows):\n",
        "            row.append(matrix[i][j])\n",
        "        transposed.append(row)\n",
        "\n",
        "    return transposed\n",
        "\n",
        "rows1 = int(input(\"Enter the number of rows for matrix 1: \"))\n",
        "columns1 = int(input(\"Enter the number of columns for matrix 1: \"))\n",
        "\n",
        "matrix1 = create_matrix(rows1, columns1)\n",
        "\n",
        "rows2 = int(input(\"Enter the number of rows for matrix 2: \"))\n",
        "columns2 = int(input(\"Enter the number of columns for matrix 2: \"))\n",
        "\n",
        "matrix2 = create_matrix(rows2, columns2)\n",
        "\n",
        "print(\"Matrix 1:\")\n",
        "for row in matrix1:\n",
        "    print(row)\n",
        "\n",
        "print(\"Matrix 2:\")\n",
        "for row in matrix2:\n",
        "    print(row)\n",
        "\n",
        "sum_matrix = add_matrices(matrix1, matrix2)\n",
        "if sum_matrix is not None:\n",
        "    print(\"Sum of matrices:\")\n",
        "    for row in sum_matrix:\n",
        "        print(row)\n",
        "else:\n",
        "    print(\"Matrices cannot be added due to incompatible dimensions.\")\n",
        "\n",
        "product_matrix = multiply_matrices(matrix1, matrix2)\n",
        "if product_matrix is not None:\n",
        "    print(\"Product of matrices:\")\n",
        "    for row in product_matrix:\n",
        "        print(row)\n",
        "else:\n",
        "    print(\"Matrices cannot be multiplied due to incompatible dimensions.\")\n",
        "\n",
        "transpose_matrix1 = transpose_matrix(matrix1)\n",
        "print(\"Transpose of matrix 1:\")\n",
        "for row in transpose_matrix1:\n",
        "    print(row)\n",
        "\n",
        "transpose_matrix2 = transpose_matrix(matrix2)\n",
        "print(\"Transpose of matrix 2:\")\n",
        "for row in transpose_matrix2:\n",
        "    print(row)\n"
      ],
      "metadata": {
        "colab": {
          "base_uri": "https://localhost:8080/"
        },
        "id": "CHvHIOD38P9O",
        "outputId": "5bc17071-fd83-4fd6-8fe0-e4b530654bb2"
      },
      "execution_count": null,
      "outputs": [
        {
          "output_type": "stream",
          "name": "stdout",
          "text": [
            "Enter the number of rows for matrix 1: 2\n",
            "Enter the number of columns for matrix 1: 2\n",
            "Enter element at position (1,1): 1\n",
            "Enter element at position (1,2): 2\n",
            "Enter element at position (2,1): 3\n",
            "Enter element at position (2,2): 4\n",
            "Enter the number of rows for matrix 2: 2\n",
            "Enter the number of columns for matrix 2: 2\n",
            "Enter element at position (1,1): 5\n",
            "Enter element at position (1,2): 6\n",
            "Enter element at position (2,1): 7\n",
            "Enter element at position (2,2): 8\n",
            "Matrix 1:\n",
            "[1, 2]\n",
            "[3, 4]\n",
            "Matrix 2:\n",
            "[5, 6]\n",
            "[7, 8]\n",
            "Sum of matrices:\n",
            "[6, 8]\n",
            "[10, 12]\n",
            "Product of matrices:\n",
            "[19, 22]\n",
            "[43, 50]\n",
            "Transpose of matrix 1:\n",
            "[1, 3]\n",
            "[2, 4]\n",
            "Transpose of matrix 2:\n",
            "[5, 7]\n",
            "[6, 8]\n"
          ]
        }
      ]
    }
  ]
}