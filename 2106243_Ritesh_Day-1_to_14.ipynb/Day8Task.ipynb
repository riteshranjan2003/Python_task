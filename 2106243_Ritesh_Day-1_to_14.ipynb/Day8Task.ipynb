{
  "nbformat": 4,
  "nbformat_minor": 0,
  "metadata": {
    "colab": {
      "provenance": []
    },
    "kernelspec": {
      "name": "python3",
      "display_name": "Python 3"
    },
    "language_info": {
      "name": "python"
    }
  },
  "cells": [
    {
      "cell_type": "markdown",
      "source": [
        "Q1)What are the two values of the Boolean data type? How do you write them? \n",
        "\n",
        "**The two values of the Boolean data type are:**\n",
        "\n",
        "**True:** Represents a true or logical \"yes\" value.\n",
        "\n",
        "**False:** Represents a false or logical \"no\" value.\n",
        "\n",
        "In Python, you write these Boolean values as True and False."
      ],
      "metadata": {
        "id": "EZGKwR45w2yy"
      }
    },
    {
      "cell_type": "markdown",
      "source": [
        "Q2) What are the three Boolean operators? \n",
        "\n",
        "**The three Boolean operators in Python are:**\n",
        "\n",
        "**1. and operator:**\n",
        "\n",
        "**2. or operator:**\n",
        "\n",
        "**3. not operator:**"
      ],
      "metadata": {
        "id": "MONgAap1xjNP"
      }
    },
    {
      "cell_type": "markdown",
      "source": [
        "Q3)  Write out the truth tables of each Boolean operator (that is, every possible combination of Boolean values for the operator and what they evaluate to). \n",
        "\n",
        "**and operator:**\n",
        "\n",
        "*  The and operator returns True if both operands are true. Otherwise, it returns False.\n",
        "*  It performs a logical AND operation on the operands.\n",
        "\n",
        "**or operator:**\n",
        "\n",
        "*  The or operator returns True if at least one of the operands is true. If both operands are false, it returns False.\n",
        "*  It performs a logical OR operation on the operands.\n",
        "\n",
        "**not operator:**\n",
        "\n",
        "*  The not operator returns the opposite of the operand. If the operand is True, it returns False, and if the operand is False, it returns True.\n",
        "*  It performs a logical NOT operation on the operand."
      ],
      "metadata": {
        "id": "b92ZMxUrypsR"
      }
    },
    {
      "cell_type": "markdown",
      "source": [
        "Q4) What do the following expressions evaluate to? \n",
        "\n",
        "(5 > 4) and (3 == 5) ------------------> False\n",
        "\n",
        "not (5 > 4) ---------------------------> False\n",
        "\n",
        "(5 > 4) or (3 == 5) -------------------> True\n",
        "\n",
        "not ((5 > 4) or (3 == 5)) -------------> False\n",
        "\n",
        "(True and True) and (True == False) ---> False\n",
        "\n",
        "(not False) or (not True)  ------------> True\n",
        "\n"
      ],
      "metadata": {
        "id": "o94oFYTLzjVp"
      }
    },
    {
      "cell_type": "markdown",
      "source": [
        "Q5) What are the six comparison operators?\n",
        "\n",
        "1. Equal to (==):\n",
        "\n",
        "2. Not equal to (!=):\n",
        "\n",
        "3. Greater than (>):\n",
        "\n",
        "4. Less than (<):\n",
        "\n",
        "5. Greater than or equal to (>=):\n",
        "\n",
        "6. Less than or equal to (<=):"
      ],
      "metadata": {
        "id": "Ka1SqtsS1iAf"
      }
    },
    {
      "cell_type": "markdown",
      "source": [
        "Q6) What is the difference between the equal to operator and the assignment operator?\n",
        "\n",
        "**Equal to Operator (==):**\n",
        "\n",
        "*  The equal to operator is a comparison operator used to check if two values are equal.\n",
        "*  It compares the values on the left and right sides of the operator and returns True if they are equal, and False otherwise.\n",
        "*  Example: 2 == 2 evaluates to True, indicating that the values on both sides of the operator are equal.\n",
        "\n",
        "**Assignment Operator (=):**\n",
        "\n",
        "*  The assignment operator is used to assign a value to a variable.\n",
        "*  It assigns the value on the right side of the operator to the variable on the left side.\n",
        "*  Example: x = 5 assigns the value 5 to the variable x."
      ],
      "metadata": {
        "id": "t6raPCV_2UpD"
      }
    },
    {
      "cell_type": "markdown",
      "source": [
        "Q7) Explain what a condition is and where you would use one. \n",
        "\n",
        "A condition is an expression or statement that evaluates to either true or false. It is used to control the flow of a program based on certain criteria or requirements. A condition determines whether a specific block of code should be executed or not, allowing the program to make decisions dynamically during runtime."
      ],
      "metadata": {
        "id": "OsNLUc7n25-a"
      }
    }
  ]
}