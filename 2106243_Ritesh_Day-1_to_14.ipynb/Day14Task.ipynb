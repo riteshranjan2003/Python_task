{
  "nbformat": 4,
  "nbformat_minor": 0,
  "metadata": {
    "colab": {
      "provenance": []
    },
    "kernelspec": {
      "name": "python3",
      "display_name": "Python 3"
    },
    "language_info": {
      "name": "python"
    }
  },
  "cells": [
    {
      "cell_type": "markdown",
      "source": [
        "Q1) Program to find the sum of digits of a number until the sum is reduced to 1 digit "
      ],
      "metadata": {
        "id": "hSoRUmpQ9jx4"
      }
    },
    {
      "cell_type": "code",
      "source": [
        "def digit_sum(number):\n",
        "    while number >= 10:\n",
        "        sum_of_digits = 0\n",
        "        while number > 0:\n",
        "            sum_of_digits += number % 10\n",
        "            number //= 10\n",
        "        number = sum_of_digits\n",
        "    return number\n",
        "\n",
        "number = int(input(\"Enter a number: \"))\n",
        "result = digit_sum(number)\n",
        "print(\"Sum of digits reduced to 1 digit:\", result)\n"
      ],
      "metadata": {
        "colab": {
          "base_uri": "https://localhost:8080/"
        },
        "id": "bcYv1IId-cCR",
        "outputId": "2a6feed4-6876-4194-b671-65f7331018d1"
      },
      "execution_count": null,
      "outputs": [
        {
          "output_type": "stream",
          "name": "stdout",
          "text": [
            "Enter a number: 9875\n",
            "Sum of digits reduced to 1 digit: 2\n"
          ]
        }
      ]
    },
    {
      "cell_type": "markdown",
      "source": [
        "Q2) Program to find LCM and HCF of two numbers"
      ],
      "metadata": {
        "id": "AS7B9Ew-_GUX"
      }
    },
    {
      "cell_type": "code",
      "source": [
        "def find_lcm(x, y):\n",
        "    max_num = max(x, y)\n",
        "\n",
        "    while True:\n",
        "        if max_num % x == 0 and max_num % y == 0:\n",
        "            lcm = max_num\n",
        "            break\n",
        "        max_num += 1\n",
        "\n",
        "    return lcm\n",
        "\n",
        "def find_hcf(x, y):\n",
        "    min_num = min(x, y)\n",
        "\n",
        "    while min_num > 0:\n",
        "        if x % min_num == 0 and y % min_num == 0:\n",
        "            hcf = min_num\n",
        "            break\n",
        "        min_num -= 1\n",
        "\n",
        "    return hcf\n",
        "\n",
        "num1 = int(input(\"Enter first number: \"))\n",
        "num2 = int(input(\"Enter second number: \"))\n",
        "\n",
        "lcm = find_lcm(num1, num2)\n",
        "hcf = find_hcf(num1, num2)\n",
        "\n",
        "print(\"LCM of\", num1, \"and\", num2, \"is\", lcm)\n",
        "print(\"HCF of\", num1, \"and\", num2, \"is\", hcf)\n"
      ],
      "metadata": {
        "colab": {
          "base_uri": "https://localhost:8080/"
        },
        "id": "Qhlf5I9K_jJQ",
        "outputId": "b70b5024-302c-4b3e-f6b2-5e458b0579ad"
      },
      "execution_count": null,
      "outputs": [
        {
          "output_type": "stream",
          "name": "stdout",
          "text": [
            "Enter first number: 10\n",
            "Enter second number: 20\n",
            "LCM of 10 and 20 is 20\n",
            "HCF of 10 and 20 is 10\n"
          ]
        }
      ]
    },
    {
      "cell_type": "markdown",
      "source": [
        "Q3) Write a program to accept any number n and print the cube of all numbers from 1 to n which are divisible by 3. Rewrite the program using a continue statement"
      ],
      "metadata": {
        "id": "c-sy_txDADEo"
      }
    },
    {
      "cell_type": "code",
      "source": [
        "def print_cubes_divisible_by_three(n):\n",
        "    for i in range(1, n+1):\n",
        "        if i % 3 == 0:\n",
        "            print(i ** 3)\n",
        "\n",
        "num = int(input(\"Enter a number: \"))\n",
        "print_cubes_divisible_by_three(num)\n"
      ],
      "metadata": {
        "colab": {
          "base_uri": "https://localhost:8080/"
        },
        "id": "OdbzPIsdAahR",
        "outputId": "8995f6bd-8081-4086-a923-e933aa23e538"
      },
      "execution_count": null,
      "outputs": [
        {
          "output_type": "stream",
          "name": "stdout",
          "text": [
            "Enter a number: 12\n",
            "27\n",
            "216\n",
            "729\n",
            "1728\n"
          ]
        }
      ]
    },
    {
      "cell_type": "markdown",
      "source": [
        "Q4) Write a program to read roll number and marks of 10 students in 3 subjects. The valid range for roll number is 1000-9999, if the roll number entered is not in this range, the user should be asked to enter again. Calculate total marks of only those students who get more than or equal to 40 marks in each subject. Count the number of students whose total is more than 200. Print the roll number of the students who gets the highest total. "
      ],
      "metadata": {
        "id": "LuIt6xiZBLPc"
      }
    },
    {
      "cell_type": "code",
      "source": [
        "def validate_roll_number(roll_number):\n",
        "    return 1000 <= roll_number <= 9999\n",
        "\n",
        "def calculate_total_marks(marks):\n",
        "    return sum(marks)\n",
        "\n",
        "students_count = 10\n",
        "valid_students_count = 0\n",
        "students_total_more_than_200 = 0\n",
        "highest_total = 0\n",
        "highest_total_roll_number = 0\n",
        "\n",
        "for _ in range(students_count):\n",
        "    while True:\n",
        "        roll_number = int(input(\"Enter roll number: \"))\n",
        "        if validate_roll_number(roll_number):\n",
        "            break\n",
        "        print(\"Invalid roll number. Please enter again.\")\n",
        "\n",
        "    marks = []\n",
        "    for subject in range(1, 4):\n",
        "        marks.append(int(input(f\"Enter marks for subject {subject}: \")))\n",
        "\n",
        "    total_marks = calculate_total_marks(marks)\n",
        "\n",
        "    if all(mark >= 40 for mark in marks):\n",
        "        valid_students_count += 1\n",
        "\n",
        "        if total_marks > 200:\n",
        "            students_total_more_than_200 += 1\n",
        "        if total_marks > highest_total:\n",
        "            highest_total = total_marks\n",
        "            highest_total_roll_number = roll_number\n",
        "\n",
        "print(\"Number of students with more than or equal to 40 marks in each subject:\", valid_students_count)\n",
        "print(\"Number of students with total marks more than 200:\", students_total_more_than_200)\n",
        "print(\"Roll number of the student with the highest total marks:\", highest_total_roll_number)"
      ],
      "metadata": {
        "colab": {
          "base_uri": "https://localhost:8080/"
        },
        "id": "Hpai7Bw3BT1h",
        "outputId": "b767c768-ed24-4627-f38f-fa681159d3af"
      },
      "execution_count": null,
      "outputs": [
        {
          "output_type": "stream",
          "name": "stdout",
          "text": [
            "Enter roll number: 6243\n",
            "Enter marks for subject 1: 100\n",
            "Enter marks for subject 2: 98\n",
            "Enter marks for subject 3: 87\n",
            "Enter roll number: 6231\n",
            "Enter marks for subject 1: 100\n",
            "Enter marks for subject 2: 99\n",
            "Enter marks for subject 3: 98\n",
            "Enter roll number: 6183\n",
            "Enter marks for subject 1: 99\n",
            "Enter marks for subject 2: 89\n",
            "Enter marks for subject 3: 87\n",
            "Enter roll number: 6235\n",
            "Enter marks for subject 1: 76\n",
            "Enter marks for subject 2: 78\n",
            "Enter marks for subject 3: 98\n",
            "Enter roll number: 6241\n",
            "Enter marks for subject 1: 89\n",
            "Enter marks for subject 2: 90\n",
            "Enter marks for subject 3: 91\n",
            "Enter roll number: 6230\n",
            "Enter marks for subject 1: 67\n",
            "Enter marks for subject 2: 32\n",
            "Enter marks for subject 3: 12\n",
            "Enter roll number: 6244\n",
            "Enter marks for subject 1: 23\n",
            "Enter marks for subject 2: 54\n",
            "Enter marks for subject 3: 78\n",
            "Enter roll number: 6187\n",
            "Enter marks for subject 1: 87\n",
            "Enter marks for subject 2: 90\n",
            "Enter marks for subject 3: 100\n",
            "Enter roll number: 6217\n",
            "Enter marks for subject 1: 18\n",
            "Enter marks for subject 2: 19\n",
            "Enter marks for subject 3: 67\n",
            "Enter roll number: 6181\n",
            "Enter marks for subject 1: 34\n",
            "Enter marks for subject 2: 65\n",
            "Enter marks for subject 3: 90\n",
            "Number of students with more than or equal to 40 marks in each subject: 6\n",
            "Number of students with total marks more than 200: 6\n",
            "Roll number of the student with the highest total marks: 6231\n"
          ]
        }
      ]
    },
    {
      "cell_type": "markdown",
      "source": [
        "Q5)  Write a program to input a number and count the digits in it. Use while loop and the program should work correctly for 0 also "
      ],
      "metadata": {
        "id": "l1EZRwEuDRdA"
      }
    },
    {
      "cell_type": "code",
      "source": [
        "number = int(input(\"Enter a number: \"))\n",
        "\n",
        "digit_count = 0\n",
        "\n",
        "if number == 0:\n",
        "    digit_count = 1\n",
        "else:\n",
        "    while number != 0:\n",
        "        number //= 10\n",
        "        digit_count += 1\n",
        "\n",
        "print(\"Number of digits:\", digit_count)\n"
      ],
      "metadata": {
        "colab": {
          "base_uri": "https://localhost:8080/"
        },
        "id": "Mn6XiM5ADYhX",
        "outputId": "06a9eafb-4144-4ddc-8dbb-cbc61218bf25"
      },
      "execution_count": null,
      "outputs": [
        {
          "output_type": "stream",
          "name": "stdout",
          "text": [
            "Enter a number: 12\n",
            "Number of digits: 2\n"
          ]
        }
      ]
    },
    {
      "cell_type": "markdown",
      "source": [
        "Q6) Write a program to enter a number and find the reverse of that number. Also display the double of the reverse number. (don’t use string magic) "
      ],
      "metadata": {
        "id": "9C_tgwwaD8UE"
      }
    },
    {
      "cell_type": "code",
      "source": [
        "def reverse_number(num):\n",
        "    reverse = 0\n",
        "\n",
        "    while num > 0:\n",
        "        remainder = num % 10\n",
        "        reverse = (reverse * 10) + remainder\n",
        "        num //= 10\n",
        "\n",
        "    return reverse\n",
        "\n",
        "number = int(input(\"Enter a number: \"))\n",
        "\n",
        "reverse = reverse_number(number)\n",
        "\n",
        "double_reverse = reverse * 2\n",
        "\n",
        "print(\"Reverse of the number:\", reverse)\n",
        "print(\"Double of the reverse:\", double_reverse)\n"
      ],
      "metadata": {
        "colab": {
          "base_uri": "https://localhost:8080/"
        },
        "id": "nBX4IuKZEB9P",
        "outputId": "69144d11-8ff4-485e-d972-212fd730e384"
      },
      "execution_count": null,
      "outputs": [
        {
          "output_type": "stream",
          "name": "stdout",
          "text": [
            "Enter a number: 23\n",
            "Reverse of the number: 32\n",
            "Double of the reverse: 64\n"
          ]
        }
      ]
    }
  ]
}